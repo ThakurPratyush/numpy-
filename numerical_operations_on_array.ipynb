{
  "nbformat": 4,
  "nbformat_minor": 0,
  "metadata": {
    "colab": {
      "name": "numerical_operations_on_array.ipynb",
      "provenance": []
    },
    "kernelspec": {
      "display_name": "Python 3",
      "language": "python",
      "name": "python3"
    }
  },
  "cells": [
    {
      "metadata": {
        "id": "jfJQ0s3bswc_"
      },
      "cell_type": "code",
      "source": [
        "import numpy as np"
      ],
      "execution_count": 1,
      "outputs": []
    },
    {
      "metadata": {
        "id": "jhQnKQ2KswdE"
      },
      "cell_type": "markdown",
      "source": [
        "# Elementwise Operations"
      ]
    },
    {
      "metadata": {
        "id": "Wtu7cWpiswdF"
      },
      "cell_type": "markdown",
      "source": [
        "**1. Basic Operations**"
      ]
    },
    {
      "metadata": {
        "id": "F-67X08fswdG"
      },
      "cell_type": "markdown",
      "source": [
        "**with scalars**"
      ]
    },
    {
      "metadata": {
        "id": "dVy44XhoswdI",
        "colab": {
          "base_uri": "https://localhost:8080/"
        },
        "outputId": "53ca8dbb-4d1d-4269-ee88-56290170b373"
      },
      "cell_type": "code",
      "source": [
        "a = np.array([1, 2, 3, 4]) #create an array\n",
        "\n",
        "a + 1"
      ],
      "execution_count": 2,
      "outputs": [
        {
          "output_type": "execute_result",
          "data": {
            "text/plain": [
              "array([2, 3, 4, 5])"
            ]
          },
          "metadata": {},
          "execution_count": 2
        }
      ]
    },
    {
      "metadata": {
        "id": "C3xGq800swdO",
        "colab": {
          "base_uri": "https://localhost:8080/"
        },
        "outputId": "0c804ad5-277c-401b-a618-5d8497c6d9a7"
      },
      "cell_type": "code",
      "source": [
        "a ** 2"
      ],
      "execution_count": 3,
      "outputs": [
        {
          "output_type": "execute_result",
          "data": {
            "text/plain": [
              "array([ 1,  4,  9, 16])"
            ]
          },
          "metadata": {},
          "execution_count": 3
        }
      ]
    },
    {
      "metadata": {
        "id": "RUCgn5sWswdS"
      },
      "cell_type": "markdown",
      "source": [
        "**All arithmetic operates elementwise**"
      ]
    },
    {
      "metadata": {
        "id": "8PnM4PU7swdT",
        "colab": {
          "base_uri": "https://localhost:8080/"
        },
        "outputId": "4ad67734-555a-4fca-fc26-2dd00fa5f5c9"
      },
      "cell_type": "code",
      "source": [
        "b = np.ones(4) + 1\n",
        "\n",
        "a - b"
      ],
      "execution_count": 4,
      "outputs": [
        {
          "output_type": "execute_result",
          "data": {
            "text/plain": [
              "array([-1.,  0.,  1.,  2.])"
            ]
          },
          "metadata": {},
          "execution_count": 4
        }
      ]
    },
    {
      "metadata": {
        "id": "rpXvbqFwswdX",
        "colab": {
          "base_uri": "https://localhost:8080/"
        },
        "outputId": "21bb29d5-4615-462d-b47d-67b47d9880c6"
      },
      "cell_type": "code",
      "source": [
        "a * b"
      ],
      "execution_count": 5,
      "outputs": [
        {
          "output_type": "execute_result",
          "data": {
            "text/plain": [
              "array([2., 4., 6., 8.])"
            ]
          },
          "metadata": {},
          "execution_count": 5
        }
      ]
    },
    {
      "metadata": {
        "id": "2abVO_V_swdb",
        "colab": {
          "base_uri": "https://localhost:8080/"
        },
        "outputId": "1eeaae95-ae92-48ec-a2bf-d120451a4b0f"
      },
      "cell_type": "code",
      "source": [
        "# Matrix multiplication\n",
        "\n",
        "c = np.diag([1, 2, 3, 4])\n",
        "\n",
        "print(c * c)\n",
        "print(\"*****************\")\n",
        "print(c.dot(c))"
      ],
      "execution_count": 6,
      "outputs": [
        {
          "output_type": "stream",
          "name": "stdout",
          "text": [
            "[[ 1  0  0  0]\n",
            " [ 0  4  0  0]\n",
            " [ 0  0  9  0]\n",
            " [ 0  0  0 16]]\n",
            "*****************\n",
            "[[ 1  0  0  0]\n",
            " [ 0  4  0  0]\n",
            " [ 0  0  9  0]\n",
            " [ 0  0  0 16]]\n"
          ]
        }
      ]
    },
    {
      "metadata": {
        "id": "WQJuiT1uswdf"
      },
      "cell_type": "markdown",
      "source": [
        "**comparisions**"
      ]
    },
    {
      "metadata": {
        "id": "fjeX-CiOswdg",
        "colab": {
          "base_uri": "https://localhost:8080/"
        },
        "outputId": "1df63106-e6f3-4b16-d65b-846c6b5e49b0"
      },
      "cell_type": "code",
      "source": [
        "a = np.array([1, 2, 3, 4])\n",
        "b = np.array([5, 2, 2, 4])\n",
        "a == b"
      ],
      "execution_count": 7,
      "outputs": [
        {
          "output_type": "execute_result",
          "data": {
            "text/plain": [
              "array([False,  True, False,  True])"
            ]
          },
          "metadata": {},
          "execution_count": 7
        }
      ]
    },
    {
      "metadata": {
        "id": "X8TTJ8A2swdk",
        "colab": {
          "base_uri": "https://localhost:8080/"
        },
        "outputId": "3f440191-9a31-4e63-f762-175b64a1d0d5"
      },
      "cell_type": "code",
      "source": [
        "a > b"
      ],
      "execution_count": 8,
      "outputs": [
        {
          "output_type": "execute_result",
          "data": {
            "text/plain": [
              "array([False, False,  True, False])"
            ]
          },
          "metadata": {},
          "execution_count": 8
        }
      ]
    },
    {
      "metadata": {
        "id": "J6VVph4Qswdp",
        "colab": {
          "base_uri": "https://localhost:8080/"
        },
        "outputId": "047f593e-3253-4fe4-a5c3-1bddc3f34f63"
      },
      "cell_type": "code",
      "source": [
        "#array-wise comparisions\n",
        "a = np.array([1, 2, 3, 4])\n",
        "b = np.array([5, 2, 2, 4])\n",
        "c = np.array([1, 2, 3, 4])\n",
        "\n",
        "np.array_equal(a, b)"
      ],
      "execution_count": 9,
      "outputs": [
        {
          "output_type": "execute_result",
          "data": {
            "text/plain": [
              "False"
            ]
          },
          "metadata": {},
          "execution_count": 9
        }
      ]
    },
    {
      "metadata": {
        "id": "4WcN5_dEswds",
        "colab": {
          "base_uri": "https://localhost:8080/"
        },
        "outputId": "8e1698c7-f2f3-40db-c3c9-a1446c2c2b40"
      },
      "cell_type": "code",
      "source": [
        "np.array_equal(a, c)"
      ],
      "execution_count": 10,
      "outputs": [
        {
          "output_type": "execute_result",
          "data": {
            "text/plain": [
              "True"
            ]
          },
          "metadata": {},
          "execution_count": 10
        }
      ]
    },
    {
      "metadata": {
        "id": "9zENvq0Eswdw"
      },
      "cell_type": "markdown",
      "source": [
        "**Logical Operations**"
      ]
    },
    {
      "metadata": {
        "id": "1jnb4Oyoswdy",
        "colab": {
          "base_uri": "https://localhost:8080/"
        },
        "outputId": "b67f624b-906f-408f-f34e-475beea4eacf"
      },
      "cell_type": "code",
      "source": [
        "a = np.array([1, 1, 0, 0], dtype=bool)\n",
        "b = np.array([1, 0, 1, 0], dtype=bool)\n",
        "\n",
        "np.logical_or(a, b)"
      ],
      "execution_count": 11,
      "outputs": [
        {
          "output_type": "execute_result",
          "data": {
            "text/plain": [
              "array([ True,  True,  True, False])"
            ]
          },
          "metadata": {},
          "execution_count": 11
        }
      ]
    },
    {
      "metadata": {
        "id": "0Y_BIY2sswd4",
        "colab": {
          "base_uri": "https://localhost:8080/"
        },
        "outputId": "975b0c98-d5fc-4386-a124-1038291ef5da"
      },
      "cell_type": "code",
      "source": [
        "np.logical_and(a, b)"
      ],
      "execution_count": 12,
      "outputs": [
        {
          "output_type": "execute_result",
          "data": {
            "text/plain": [
              "array([ True, False, False, False])"
            ]
          },
          "metadata": {},
          "execution_count": 12
        }
      ]
    },
    {
      "metadata": {
        "id": "TphCEdOgswd_"
      },
      "cell_type": "markdown",
      "source": [
        "**Transcendental functions:**"
      ]
    },
    {
      "metadata": {
        "id": "lRgKTcVYsweA",
        "colab": {
          "base_uri": "https://localhost:8080/"
        },
        "outputId": "79c2882d-2ff3-476d-db29-540bf3746146"
      },
      "cell_type": "code",
      "source": [
        "a = np.arange(5)\n",
        "\n",
        "np.sin(a)   "
      ],
      "execution_count": 13,
      "outputs": [
        {
          "output_type": "execute_result",
          "data": {
            "text/plain": [
              "array([ 0.        ,  0.84147098,  0.90929743,  0.14112001, -0.7568025 ])"
            ]
          },
          "metadata": {},
          "execution_count": 13
        }
      ]
    },
    {
      "metadata": {
        "id": "o2WNaZYTsweG",
        "colab": {
          "base_uri": "https://localhost:8080/"
        },
        "outputId": "080db371-c05b-4eba-cdef-801e5b944e1f"
      },
      "cell_type": "code",
      "source": [
        "np.log(a)"
      ],
      "execution_count": 14,
      "outputs": [
        {
          "output_type": "stream",
          "name": "stderr",
          "text": [
            "/usr/local/lib/python3.7/dist-packages/ipykernel_launcher.py:1: RuntimeWarning: divide by zero encountered in log\n",
            "  \"\"\"Entry point for launching an IPython kernel.\n"
          ]
        },
        {
          "output_type": "execute_result",
          "data": {
            "text/plain": [
              "array([      -inf, 0.        , 0.69314718, 1.09861229, 1.38629436])"
            ]
          },
          "metadata": {},
          "execution_count": 14
        }
      ]
    },
    {
      "metadata": {
        "id": "4BqEA2-6sweM",
        "colab": {
          "base_uri": "https://localhost:8080/"
        },
        "outputId": "6c1121ad-5b73-4677-fbcb-3a8653c86c21"
      },
      "cell_type": "code",
      "source": [
        "np.exp(a)   #evaluates e^x for each element in a given input"
      ],
      "execution_count": 15,
      "outputs": [
        {
          "output_type": "execute_result",
          "data": {
            "text/plain": [
              "array([ 1.        ,  2.71828183,  7.3890561 , 20.08553692, 54.59815003])"
            ]
          },
          "metadata": {},
          "execution_count": 15
        }
      ]
    },
    {
      "metadata": {
        "id": "ZTCX8P40sweR"
      },
      "cell_type": "markdown",
      "source": [
        "**Shape Mismatch**"
      ]
    },
    {
      "metadata": {
        "id": "rEWPomresweR",
        "colab": {
          "base_uri": "https://localhost:8080/",
          "height": 201
        },
        "outputId": "f39889a1-f02e-4fbb-c460-cdc623e8427d"
      },
      "cell_type": "code",
      "source": [
        "a = np.arange(4)\n",
        "\n",
        "a + np.array([1, 2])"
      ],
      "execution_count": 17,
      "outputs": [
        {
          "output_type": "error",
          "ename": "ValueError",
          "evalue": "ignored",
          "traceback": [
            "\u001b[0;31m---------------------------------------------------------------------------\u001b[0m",
            "\u001b[0;31mValueError\u001b[0m                                Traceback (most recent call last)",
            "\u001b[0;32m<ipython-input-17-9bed92644e4e>\u001b[0m in \u001b[0;36m<module>\u001b[0;34m()\u001b[0m\n\u001b[1;32m      1\u001b[0m \u001b[0ma\u001b[0m \u001b[0;34m=\u001b[0m \u001b[0mnp\u001b[0m\u001b[0;34m.\u001b[0m\u001b[0marange\u001b[0m\u001b[0;34m(\u001b[0m\u001b[0;36m4\u001b[0m\u001b[0;34m)\u001b[0m\u001b[0;34m\u001b[0m\u001b[0;34m\u001b[0m\u001b[0m\n\u001b[1;32m      2\u001b[0m \u001b[0;34m\u001b[0m\u001b[0m\n\u001b[0;32m----> 3\u001b[0;31m \u001b[0ma\u001b[0m \u001b[0;34m+\u001b[0m \u001b[0mnp\u001b[0m\u001b[0;34m.\u001b[0m\u001b[0marray\u001b[0m\u001b[0;34m(\u001b[0m\u001b[0;34m[\u001b[0m\u001b[0;36m1\u001b[0m\u001b[0;34m,\u001b[0m \u001b[0;36m2\u001b[0m\u001b[0;34m]\u001b[0m\u001b[0;34m)\u001b[0m\u001b[0;34m\u001b[0m\u001b[0;34m\u001b[0m\u001b[0m\n\u001b[0m",
            "\u001b[0;31mValueError\u001b[0m: operands could not be broadcast together with shapes (4,) (2,) "
          ]
        }
      ]
    },
    {
      "metadata": {
        "id": "9pyhkSfQsweW"
      },
      "cell_type": "markdown",
      "source": [
        "# Basic Reductions"
      ]
    },
    {
      "metadata": {
        "id": "DHyoVepdsweX"
      },
      "cell_type": "markdown",
      "source": [
        "**computing sums**"
      ]
    },
    {
      "metadata": {
        "id": "8Ed2Id_-sweY",
        "colab": {
          "base_uri": "https://localhost:8080/"
        },
        "outputId": "0a0f3ae0-e1eb-4c6c-f763-ed7fa79c81dc"
      },
      "cell_type": "code",
      "source": [
        "x = np.array([1, 2, 3, 4])\n",
        "np.sum(x)"
      ],
      "execution_count": 18,
      "outputs": [
        {
          "output_type": "execute_result",
          "data": {
            "text/plain": [
              "10"
            ]
          },
          "metadata": {},
          "execution_count": 18
        }
      ]
    },
    {
      "metadata": {
        "id": "zRoRIgZqswed",
        "colab": {
          "base_uri": "https://localhost:8080/"
        },
        "outputId": "f2b7398e-051f-44ef-aee1-4872535e59db"
      },
      "cell_type": "code",
      "source": [
        "#sum by rows and by columns\n",
        "\n",
        "x = np.array([[1, 1], [2, 2]])\n",
        "x"
      ],
      "execution_count": 19,
      "outputs": [
        {
          "output_type": "execute_result",
          "data": {
            "text/plain": [
              "array([[1, 1],\n",
              "       [2, 2]])"
            ]
          },
          "metadata": {},
          "execution_count": 19
        }
      ]
    },
    {
      "metadata": {
        "id": "_vP6O-E2sweh",
        "colab": {
          "base_uri": "https://localhost:8080/"
        },
        "outputId": "d40e567e-f8c9-47b3-98bd-7a3116e3fd7d"
      },
      "cell_type": "code",
      "source": [
        "x.sum(axis=0)   #columns first dimension"
      ],
      "execution_count": 20,
      "outputs": [
        {
          "output_type": "execute_result",
          "data": {
            "text/plain": [
              "array([3, 3])"
            ]
          },
          "metadata": {},
          "execution_count": 20
        }
      ]
    },
    {
      "metadata": {
        "id": "Tcuz_6SRswel",
        "colab": {
          "base_uri": "https://localhost:8080/"
        },
        "outputId": "c58a5385-548f-49ee-8e5f-e0d47094f009"
      },
      "cell_type": "code",
      "source": [
        "x.sum(axis=1)  #rows (second dimension)"
      ],
      "execution_count": 21,
      "outputs": [
        {
          "output_type": "execute_result",
          "data": {
            "text/plain": [
              "array([2, 4])"
            ]
          },
          "metadata": {},
          "execution_count": 21
        }
      ]
    },
    {
      "metadata": {
        "id": "958ZeK7bsweq"
      },
      "cell_type": "markdown",
      "source": [
        "**Other reductions**"
      ]
    },
    {
      "metadata": {
        "id": "R5zUDMynswer",
        "colab": {
          "base_uri": "https://localhost:8080/"
        },
        "outputId": "969f4fc0-598d-4b4f-b66a-97ad797128ba"
      },
      "cell_type": "code",
      "source": [
        "x = np.array([1, 3, 2])\n",
        "x.min()"
      ],
      "execution_count": 22,
      "outputs": [
        {
          "output_type": "execute_result",
          "data": {
            "text/plain": [
              "1"
            ]
          },
          "metadata": {},
          "execution_count": 22
        }
      ]
    },
    {
      "metadata": {
        "id": "kZtfLNX3swet",
        "colab": {
          "base_uri": "https://localhost:8080/"
        },
        "outputId": "ff2e9f1b-e7f6-482b-b9f2-ff2e6ba26c66"
      },
      "cell_type": "code",
      "source": [
        "x.max()"
      ],
      "execution_count": 23,
      "outputs": [
        {
          "output_type": "execute_result",
          "data": {
            "text/plain": [
              "3"
            ]
          },
          "metadata": {},
          "execution_count": 23
        }
      ]
    },
    {
      "metadata": {
        "id": "AFmjGkYeswex",
        "colab": {
          "base_uri": "https://localhost:8080/"
        },
        "outputId": "66191f0e-eab6-4f95-ec32-4ce65e125883"
      },
      "cell_type": "code",
      "source": [
        "x.argmin()# index of minimum element"
      ],
      "execution_count": 24,
      "outputs": [
        {
          "output_type": "execute_result",
          "data": {
            "text/plain": [
              "0"
            ]
          },
          "metadata": {},
          "execution_count": 24
        }
      ]
    },
    {
      "metadata": {
        "id": "jZ1Kne4bswe0",
        "colab": {
          "base_uri": "https://localhost:8080/"
        },
        "outputId": "b95ddf87-c981-40c7-eba8-66d7f5f54346"
      },
      "cell_type": "code",
      "source": [
        "x.argmax()# index of maximum element"
      ],
      "execution_count": 25,
      "outputs": [
        {
          "output_type": "execute_result",
          "data": {
            "text/plain": [
              "1"
            ]
          },
          "metadata": {},
          "execution_count": 25
        }
      ]
    },
    {
      "metadata": {
        "id": "HMjQrI2Xswe6"
      },
      "cell_type": "markdown",
      "source": [
        "**Logical Operations**"
      ]
    },
    {
      "metadata": {
        "id": "yDdavXNvswe7",
        "colab": {
          "base_uri": "https://localhost:8080/"
        },
        "outputId": "eb9cee7f-75f8-4c31-9440-3749c791232d"
      },
      "cell_type": "code",
      "source": [
        "np.all([True, True, False])"
      ],
      "execution_count": 26,
      "outputs": [
        {
          "output_type": "execute_result",
          "data": {
            "text/plain": [
              "False"
            ]
          },
          "metadata": {},
          "execution_count": 26
        }
      ]
    },
    {
      "metadata": {
        "id": "pWQ5lldeswfA",
        "colab": {
          "base_uri": "https://localhost:8080/"
        },
        "outputId": "88b34b77-326c-4564-9b40-77403fffe657"
      },
      "cell_type": "code",
      "source": [
        "np.any([True, False, False])"
      ],
      "execution_count": 27,
      "outputs": [
        {
          "output_type": "execute_result",
          "data": {
            "text/plain": [
              "True"
            ]
          },
          "metadata": {},
          "execution_count": 27
        }
      ]
    },
    {
      "metadata": {
        "id": "g7ZIbD4YswfD",
        "colab": {
          "base_uri": "https://localhost:8080/"
        },
        "outputId": "8be8faeb-6985-4a40-b270-7793c6f29fa0"
      },
      "cell_type": "code",
      "source": [
        "#Note: can be used for array comparisions\n",
        "a = np.zeros((50, 50))\n",
        "np.any(a != 0)"
      ],
      "execution_count": 28,
      "outputs": [
        {
          "output_type": "execute_result",
          "data": {
            "text/plain": [
              "False"
            ]
          },
          "metadata": {},
          "execution_count": 28
        }
      ]
    },
    {
      "metadata": {
        "id": "zinI9W8hswfH",
        "colab": {
          "base_uri": "https://localhost:8080/"
        },
        "outputId": "5bf7faeb-ff5b-4140-9a6d-ca444024f890"
      },
      "cell_type": "code",
      "source": [
        "np.all(a == a)"
      ],
      "execution_count": 29,
      "outputs": [
        {
          "output_type": "execute_result",
          "data": {
            "text/plain": [
              "True"
            ]
          },
          "metadata": {},
          "execution_count": 29
        }
      ]
    },
    {
      "metadata": {
        "id": "HuTF_mToswfL",
        "colab": {
          "base_uri": "https://localhost:8080/"
        },
        "outputId": "0ceb7a42-8ac0-4114-d7d9-023cb9e81bc9"
      },
      "cell_type": "code",
      "source": [
        "a = np.array([1, 2, 3, 2])\n",
        "b = np.array([2, 2, 3, 2])\n",
        "c = np.array([6, 4, 4, 5])\n",
        "((a <= b) & (b <= c)).all()"
      ],
      "execution_count": 30,
      "outputs": [
        {
          "output_type": "execute_result",
          "data": {
            "text/plain": [
              "True"
            ]
          },
          "metadata": {},
          "execution_count": 30
        }
      ]
    },
    {
      "metadata": {
        "id": "APsZAg7_swfO"
      },
      "cell_type": "markdown",
      "source": [
        "**Statistics**"
      ]
    },
    {
      "metadata": {
        "id": "cjoteMjGswfP",
        "colab": {
          "base_uri": "https://localhost:8080/"
        },
        "outputId": "9335f6cc-f4d6-4f4b-aef8-85d17707c358"
      },
      "cell_type": "code",
      "source": [
        "x = np.array([1, 2, 3, 1])\n",
        "y = np.array([[1, 2, 3], [5, 6, 1]])\n",
        "x.mean()"
      ],
      "execution_count": 31,
      "outputs": [
        {
          "output_type": "execute_result",
          "data": {
            "text/plain": [
              "1.75"
            ]
          },
          "metadata": {},
          "execution_count": 31
        }
      ]
    },
    {
      "metadata": {
        "id": "JXWE8ldfswfV",
        "colab": {
          "base_uri": "https://localhost:8080/"
        },
        "outputId": "898bc197-1187-4937-8746-10ebf2887dd8"
      },
      "cell_type": "code",
      "source": [
        "np.median(x)"
      ],
      "execution_count": 32,
      "outputs": [
        {
          "output_type": "execute_result",
          "data": {
            "text/plain": [
              "1.5"
            ]
          },
          "metadata": {},
          "execution_count": 32
        }
      ]
    },
    {
      "metadata": {
        "id": "uiBhX8Ktswfj",
        "colab": {
          "base_uri": "https://localhost:8080/"
        },
        "outputId": "ba95cfea-bb92-4d3a-dd5b-55964e4570d6"
      },
      "cell_type": "code",
      "source": [
        "np.median(y, axis=-1) # last axis"
      ],
      "execution_count": 33,
      "outputs": [
        {
          "output_type": "execute_result",
          "data": {
            "text/plain": [
              "array([2., 5.])"
            ]
          },
          "metadata": {},
          "execution_count": 33
        }
      ]
    },
    {
      "metadata": {
        "id": "Cy3p6_0nswfo",
        "colab": {
          "base_uri": "https://localhost:8080/"
        },
        "outputId": "6387e6eb-29f6-44b2-f32b-091f882397ab"
      },
      "cell_type": "code",
      "source": [
        "x.std()          # full population standard dev."
      ],
      "execution_count": 34,
      "outputs": [
        {
          "output_type": "execute_result",
          "data": {
            "text/plain": [
              "0.82915619758885"
            ]
          },
          "metadata": {},
          "execution_count": 34
        }
      ]
    },
    {
      "metadata": {
        "id": "UmJ61pVXswfu"
      },
      "cell_type": "markdown",
      "source": [
        "**Example:**"
      ]
    },
    {
      "metadata": {
        "id": "anUWifpEswfx"
      },
      "cell_type": "markdown",
      "source": [
        "Data in populations.txt describes the populations of hares and lynxes (and carrots) in northern Canada during 20 years.\n"
      ]
    },
    {
      "metadata": {
        "collapsed": true,
        "id": "rnVBTztnswfy",
        "colab": {
          "base_uri": "https://localhost:8080/",
          "height": 329
        },
        "outputId": "63eb1f09-7c90-4c81-b905-ffb4d30e7060"
      },
      "cell_type": "code",
      "source": [
        "#load data into numpy array object\n",
        "data = np.loadtxt('populations.txt')"
      ],
      "execution_count": 35,
      "outputs": [
        {
          "output_type": "error",
          "ename": "OSError",
          "evalue": "ignored",
          "traceback": [
            "\u001b[0;31m---------------------------------------------------------------------------\u001b[0m",
            "\u001b[0;31mOSError\u001b[0m                                   Traceback (most recent call last)",
            "\u001b[0;32m<ipython-input-35-7875d546229c>\u001b[0m in \u001b[0;36m<module>\u001b[0;34m()\u001b[0m\n\u001b[1;32m      1\u001b[0m \u001b[0;31m#load data into numpy array object\u001b[0m\u001b[0;34m\u001b[0m\u001b[0;34m\u001b[0m\u001b[0;34m\u001b[0m\u001b[0m\n\u001b[0;32m----> 2\u001b[0;31m \u001b[0mdata\u001b[0m \u001b[0;34m=\u001b[0m \u001b[0mnp\u001b[0m\u001b[0;34m.\u001b[0m\u001b[0mloadtxt\u001b[0m\u001b[0;34m(\u001b[0m\u001b[0;34m'populations.txt'\u001b[0m\u001b[0;34m)\u001b[0m\u001b[0;34m\u001b[0m\u001b[0;34m\u001b[0m\u001b[0m\n\u001b[0m",
            "\u001b[0;32m/usr/local/lib/python3.7/dist-packages/numpy/lib/npyio.py\u001b[0m in \u001b[0;36mloadtxt\u001b[0;34m(fname, dtype, comments, delimiter, converters, skiprows, usecols, unpack, ndmin, encoding, max_rows)\u001b[0m\n\u001b[1;32m    959\u001b[0m             \u001b[0mfname\u001b[0m \u001b[0;34m=\u001b[0m \u001b[0mos_fspath\u001b[0m\u001b[0;34m(\u001b[0m\u001b[0mfname\u001b[0m\u001b[0;34m)\u001b[0m\u001b[0;34m\u001b[0m\u001b[0;34m\u001b[0m\u001b[0m\n\u001b[1;32m    960\u001b[0m         \u001b[0;32mif\u001b[0m \u001b[0m_is_string_like\u001b[0m\u001b[0;34m(\u001b[0m\u001b[0mfname\u001b[0m\u001b[0;34m)\u001b[0m\u001b[0;34m:\u001b[0m\u001b[0;34m\u001b[0m\u001b[0;34m\u001b[0m\u001b[0m\n\u001b[0;32m--> 961\u001b[0;31m             \u001b[0mfh\u001b[0m \u001b[0;34m=\u001b[0m \u001b[0mnp\u001b[0m\u001b[0;34m.\u001b[0m\u001b[0mlib\u001b[0m\u001b[0;34m.\u001b[0m\u001b[0m_datasource\u001b[0m\u001b[0;34m.\u001b[0m\u001b[0mopen\u001b[0m\u001b[0;34m(\u001b[0m\u001b[0mfname\u001b[0m\u001b[0;34m,\u001b[0m \u001b[0;34m'rt'\u001b[0m\u001b[0;34m,\u001b[0m \u001b[0mencoding\u001b[0m\u001b[0;34m=\u001b[0m\u001b[0mencoding\u001b[0m\u001b[0;34m)\u001b[0m\u001b[0;34m\u001b[0m\u001b[0;34m\u001b[0m\u001b[0m\n\u001b[0m\u001b[1;32m    962\u001b[0m             \u001b[0mfencoding\u001b[0m \u001b[0;34m=\u001b[0m \u001b[0mgetattr\u001b[0m\u001b[0;34m(\u001b[0m\u001b[0mfh\u001b[0m\u001b[0;34m,\u001b[0m \u001b[0;34m'encoding'\u001b[0m\u001b[0;34m,\u001b[0m \u001b[0;34m'latin1'\u001b[0m\u001b[0;34m)\u001b[0m\u001b[0;34m\u001b[0m\u001b[0;34m\u001b[0m\u001b[0m\n\u001b[1;32m    963\u001b[0m             \u001b[0mfh\u001b[0m \u001b[0;34m=\u001b[0m \u001b[0miter\u001b[0m\u001b[0;34m(\u001b[0m\u001b[0mfh\u001b[0m\u001b[0;34m)\u001b[0m\u001b[0;34m\u001b[0m\u001b[0;34m\u001b[0m\u001b[0m\n",
            "\u001b[0;32m/usr/local/lib/python3.7/dist-packages/numpy/lib/_datasource.py\u001b[0m in \u001b[0;36mopen\u001b[0;34m(path, mode, destpath, encoding, newline)\u001b[0m\n\u001b[1;32m    193\u001b[0m \u001b[0;34m\u001b[0m\u001b[0m\n\u001b[1;32m    194\u001b[0m     \u001b[0mds\u001b[0m \u001b[0;34m=\u001b[0m \u001b[0mDataSource\u001b[0m\u001b[0;34m(\u001b[0m\u001b[0mdestpath\u001b[0m\u001b[0;34m)\u001b[0m\u001b[0;34m\u001b[0m\u001b[0;34m\u001b[0m\u001b[0m\n\u001b[0;32m--> 195\u001b[0;31m     \u001b[0;32mreturn\u001b[0m \u001b[0mds\u001b[0m\u001b[0;34m.\u001b[0m\u001b[0mopen\u001b[0m\u001b[0;34m(\u001b[0m\u001b[0mpath\u001b[0m\u001b[0;34m,\u001b[0m \u001b[0mmode\u001b[0m\u001b[0;34m,\u001b[0m \u001b[0mencoding\u001b[0m\u001b[0;34m=\u001b[0m\u001b[0mencoding\u001b[0m\u001b[0;34m,\u001b[0m \u001b[0mnewline\u001b[0m\u001b[0;34m=\u001b[0m\u001b[0mnewline\u001b[0m\u001b[0;34m)\u001b[0m\u001b[0;34m\u001b[0m\u001b[0;34m\u001b[0m\u001b[0m\n\u001b[0m\u001b[1;32m    196\u001b[0m \u001b[0;34m\u001b[0m\u001b[0m\n\u001b[1;32m    197\u001b[0m \u001b[0;34m\u001b[0m\u001b[0m\n",
            "\u001b[0;32m/usr/local/lib/python3.7/dist-packages/numpy/lib/_datasource.py\u001b[0m in \u001b[0;36mopen\u001b[0;34m(self, path, mode, encoding, newline)\u001b[0m\n\u001b[1;32m    533\u001b[0m                                       encoding=encoding, newline=newline)\n\u001b[1;32m    534\u001b[0m         \u001b[0;32melse\u001b[0m\u001b[0;34m:\u001b[0m\u001b[0;34m\u001b[0m\u001b[0;34m\u001b[0m\u001b[0m\n\u001b[0;32m--> 535\u001b[0;31m             \u001b[0;32mraise\u001b[0m \u001b[0mIOError\u001b[0m\u001b[0;34m(\u001b[0m\u001b[0;34m\"%s not found.\"\u001b[0m \u001b[0;34m%\u001b[0m \u001b[0mpath\u001b[0m\u001b[0;34m)\u001b[0m\u001b[0;34m\u001b[0m\u001b[0;34m\u001b[0m\u001b[0m\n\u001b[0m\u001b[1;32m    536\u001b[0m \u001b[0;34m\u001b[0m\u001b[0m\n\u001b[1;32m    537\u001b[0m \u001b[0;34m\u001b[0m\u001b[0m\n",
            "\u001b[0;31mOSError\u001b[0m: populations.txt not found."
          ]
        }
      ]
    },
    {
      "metadata": {
        "id": "P6namKkVswf1",
        "colab": {
          "base_uri": "https://localhost:8080/",
          "height": 167
        },
        "outputId": "4ecb49ee-c583-45e1-f700-d7f496e3d625"
      },
      "cell_type": "code",
      "source": [
        "data"
      ],
      "execution_count": 36,
      "outputs": [
        {
          "output_type": "error",
          "ename": "NameError",
          "evalue": "ignored",
          "traceback": [
            "\u001b[0;31m---------------------------------------------------------------------------\u001b[0m",
            "\u001b[0;31mNameError\u001b[0m                                 Traceback (most recent call last)",
            "\u001b[0;32m<ipython-input-36-c5d84736ba45>\u001b[0m in \u001b[0;36m<module>\u001b[0;34m()\u001b[0m\n\u001b[0;32m----> 1\u001b[0;31m \u001b[0mdata\u001b[0m\u001b[0;34m\u001b[0m\u001b[0;34m\u001b[0m\u001b[0m\n\u001b[0m",
            "\u001b[0;31mNameError\u001b[0m: name 'data' is not defined"
          ]
        }
      ]
    },
    {
      "metadata": {
        "id": "QmlBep1Mswf5",
        "colab": {
          "base_uri": "https://localhost:8080/",
          "height": 184
        },
        "outputId": "49191126-14b0-42b3-a832-2d514c46aac9"
      },
      "cell_type": "code",
      "source": [
        "year, hares, lynxes, carrots = data.T #columns to variables\n",
        "print(year)"
      ],
      "execution_count": 37,
      "outputs": [
        {
          "output_type": "error",
          "ename": "NameError",
          "evalue": "ignored",
          "traceback": [
            "\u001b[0;31m---------------------------------------------------------------------------\u001b[0m",
            "\u001b[0;31mNameError\u001b[0m                                 Traceback (most recent call last)",
            "\u001b[0;32m<ipython-input-37-9e7b352de360>\u001b[0m in \u001b[0;36m<module>\u001b[0;34m()\u001b[0m\n\u001b[0;32m----> 1\u001b[0;31m \u001b[0myear\u001b[0m\u001b[0;34m,\u001b[0m \u001b[0mhares\u001b[0m\u001b[0;34m,\u001b[0m \u001b[0mlynxes\u001b[0m\u001b[0;34m,\u001b[0m \u001b[0mcarrots\u001b[0m \u001b[0;34m=\u001b[0m \u001b[0mdata\u001b[0m\u001b[0;34m.\u001b[0m\u001b[0mT\u001b[0m \u001b[0;31m#columns to variables\u001b[0m\u001b[0;34m\u001b[0m\u001b[0;34m\u001b[0m\u001b[0m\n\u001b[0m\u001b[1;32m      2\u001b[0m \u001b[0mprint\u001b[0m\u001b[0;34m(\u001b[0m\u001b[0myear\u001b[0m\u001b[0;34m)\u001b[0m\u001b[0;34m\u001b[0m\u001b[0;34m\u001b[0m\u001b[0m\n",
            "\u001b[0;31mNameError\u001b[0m: name 'data' is not defined"
          ]
        }
      ]
    },
    {
      "metadata": {
        "id": "rK1BKEoyswgD"
      },
      "cell_type": "code",
      "source": [
        "#The mean population over time\n",
        "populations = data[:, 1:]\n",
        "populations"
      ],
      "execution_count": null,
      "outputs": []
    },
    {
      "metadata": {
        "id": "x9fl1SFuswgI",
        "colab": {
          "base_uri": "https://localhost:8080/",
          "height": 184
        },
        "outputId": "c353811f-92e1-43f9-c01a-08492944f279"
      },
      "cell_type": "code",
      "source": [
        "#sample standard deviations\n",
        "populations.std(axis=0)"
      ],
      "execution_count": 38,
      "outputs": [
        {
          "output_type": "error",
          "ename": "NameError",
          "evalue": "ignored",
          "traceback": [
            "\u001b[0;31m---------------------------------------------------------------------------\u001b[0m",
            "\u001b[0;31mNameError\u001b[0m                                 Traceback (most recent call last)",
            "\u001b[0;32m<ipython-input-38-5fba9f940790>\u001b[0m in \u001b[0;36m<module>\u001b[0;34m()\u001b[0m\n\u001b[1;32m      1\u001b[0m \u001b[0;31m#sample standard deviations\u001b[0m\u001b[0;34m\u001b[0m\u001b[0;34m\u001b[0m\u001b[0;34m\u001b[0m\u001b[0m\n\u001b[0;32m----> 2\u001b[0;31m \u001b[0mpopulations\u001b[0m\u001b[0;34m.\u001b[0m\u001b[0mstd\u001b[0m\u001b[0;34m(\u001b[0m\u001b[0maxis\u001b[0m\u001b[0;34m=\u001b[0m\u001b[0;36m0\u001b[0m\u001b[0;34m)\u001b[0m\u001b[0;34m\u001b[0m\u001b[0;34m\u001b[0m\u001b[0m\n\u001b[0m",
            "\u001b[0;31mNameError\u001b[0m: name 'populations' is not defined"
          ]
        }
      ]
    },
    {
      "metadata": {
        "id": "JuRAVBQZswgT"
      },
      "cell_type": "code",
      "source": [
        "#which species has the highest population each year?\n",
        "\n",
        "np.argmax(populations, axis=1)"
      ],
      "execution_count": null,
      "outputs": []
    },
    {
      "metadata": {
        "id": "tU_ZXk-TswgY"
      },
      "cell_type": "markdown",
      "source": [
        "# Broadcasting"
      ]
    },
    {
      "metadata": {
        "id": "9YhDQLkMswga"
      },
      "cell_type": "markdown",
      "source": [
        "Basic operations on numpy arrays (addition, etc.) are elementwise\n",
        "\n",
        "This works on arrays of the same size.\n",
        "    Nevertheless, It’s also possible to do operations on arrays of different sizes if NumPy can transform these arrays     so that they all have the same size: this conversion is called broadcasting.\n",
        "\n",
        "The image below gives an example of broadcasting:"
      ]
    },
    {
      "metadata": {
        "id": "ikjmauQzswgc"
      },
      "cell_type": "markdown",
      "source": [
        "![title](https://github.com/shubhamanand43/Applied_AI_Course_Notes/blob/master/5%20-%20Python%20For%20Data%20Science%20Numpy/5.1%20-%20Numpy%20Introduction/broadcasting.png?raw=1)"
      ]
    },
    {
      "metadata": {
        "id": "nI5avDtJswgd",
        "colab": {
          "base_uri": "https://localhost:8080/"
        },
        "outputId": "ab668d80-e606-4ad6-c73b-160d8c7b7da8"
      },
      "cell_type": "code",
      "source": [
        "a = np.tile(np.arange(0, 40, 10), (3,1))\n",
        "print(a)\n",
        "\n",
        "print(\"*************\")\n",
        "a=a.T\n",
        "print(a)"
      ],
      "execution_count": 39,
      "outputs": [
        {
          "output_type": "stream",
          "name": "stdout",
          "text": [
            "[[ 0 10 20 30]\n",
            " [ 0 10 20 30]\n",
            " [ 0 10 20 30]]\n",
            "*************\n",
            "[[ 0  0  0]\n",
            " [10 10 10]\n",
            " [20 20 20]\n",
            " [30 30 30]]\n"
          ]
        }
      ]
    },
    {
      "metadata": {
        "id": "cLIID2BSswgf",
        "colab": {
          "base_uri": "https://localhost:8080/"
        },
        "outputId": "012016cb-1521-4449-d64e-2af4c16e93ba"
      },
      "cell_type": "code",
      "source": [
        "\n",
        "b = np.array([0, 1, 2])\n",
        "b"
      ],
      "execution_count": 40,
      "outputs": [
        {
          "output_type": "execute_result",
          "data": {
            "text/plain": [
              "array([0, 1, 2])"
            ]
          },
          "metadata": {},
          "execution_count": 40
        }
      ]
    },
    {
      "metadata": {
        "id": "jQrV3eHlswgh",
        "colab": {
          "base_uri": "https://localhost:8080/"
        },
        "outputId": "d9deb0c2-f6f8-45a2-f0ee-b779a4d7530e"
      },
      "cell_type": "code",
      "source": [
        "\n",
        "a + b"
      ],
      "execution_count": 41,
      "outputs": [
        {
          "output_type": "execute_result",
          "data": {
            "text/plain": [
              "array([[ 0,  1,  2],\n",
              "       [10, 11, 12],\n",
              "       [20, 21, 22],\n",
              "       [30, 31, 32]])"
            ]
          },
          "metadata": {},
          "execution_count": 41
        }
      ]
    },
    {
      "metadata": {
        "id": "O46UzhDpswgj",
        "colab": {
          "base_uri": "https://localhost:8080/"
        },
        "outputId": "942c1010-a728-4c95-d2d8-f0c165b94852"
      },
      "cell_type": "code",
      "source": [
        "a = np.arange(0, 40, 10)\n",
        "a.shape\n"
      ],
      "execution_count": 42,
      "outputs": [
        {
          "output_type": "execute_result",
          "data": {
            "text/plain": [
              "(4,)"
            ]
          },
          "metadata": {},
          "execution_count": 42
        }
      ]
    },
    {
      "metadata": {
        "id": "OgkzL1i9swgl",
        "colab": {
          "base_uri": "https://localhost:8080/"
        },
        "outputId": "2d83f2d3-da61-4432-839b-5067f4de0f08"
      },
      "cell_type": "code",
      "source": [
        "a = a[:, np.newaxis]  # adds a new axis -> 2D array\n",
        "a.shape"
      ],
      "execution_count": 43,
      "outputs": [
        {
          "output_type": "execute_result",
          "data": {
            "text/plain": [
              "(4, 1)"
            ]
          },
          "metadata": {},
          "execution_count": 43
        }
      ]
    },
    {
      "metadata": {
        "id": "PQiWxq-6swgq",
        "colab": {
          "base_uri": "https://localhost:8080/"
        },
        "outputId": "2f9c8a1c-7020-4e56-8430-16e42f04d904"
      },
      "cell_type": "code",
      "source": [
        "a"
      ],
      "execution_count": 44,
      "outputs": [
        {
          "output_type": "execute_result",
          "data": {
            "text/plain": [
              "array([[ 0],\n",
              "       [10],\n",
              "       [20],\n",
              "       [30]])"
            ]
          },
          "metadata": {},
          "execution_count": 44
        }
      ]
    },
    {
      "metadata": {
        "id": "tsUMMhVMswgw",
        "colab": {
          "base_uri": "https://localhost:8080/"
        },
        "outputId": "dc9f3ac8-1d6a-4b13-e557-a4d6a4865cc2"
      },
      "cell_type": "code",
      "source": [
        "a + b"
      ],
      "execution_count": 45,
      "outputs": [
        {
          "output_type": "execute_result",
          "data": {
            "text/plain": [
              "array([[ 0,  1,  2],\n",
              "       [10, 11, 12],\n",
              "       [20, 21, 22],\n",
              "       [30, 31, 32]])"
            ]
          },
          "metadata": {},
          "execution_count": 45
        }
      ]
    },
    {
      "metadata": {
        "id": "j_PyiHoLswgz"
      },
      "cell_type": "markdown",
      "source": [
        "# Array Shape Manipulation"
      ]
    },
    {
      "metadata": {
        "id": "k_PleE7Tswgz"
      },
      "cell_type": "markdown",
      "source": [
        "**Flattening**"
      ]
    },
    {
      "metadata": {
        "id": "ZCNm05mWswg0",
        "colab": {
          "base_uri": "https://localhost:8080/"
        },
        "outputId": "277b7226-60c6-48f9-eb7c-7b2c31c71d5f"
      },
      "cell_type": "code",
      "source": [
        "a = np.array([[1, 2, 3], [4, 5, 6]])\n",
        "a.ravel() #Return a contiguous flattened array. A 1-D array, containing the elements of the input, is returned. A copy is made only if needed."
      ],
      "execution_count": 96,
      "outputs": [
        {
          "output_type": "execute_result",
          "data": {
            "text/plain": [
              "array([1, 2, 3, 4, 5, 6])"
            ]
          },
          "metadata": {},
          "execution_count": 96
        }
      ]
    },
    {
      "metadata": {
        "id": "vDHkkj_Cswg2",
        "colab": {
          "base_uri": "https://localhost:8080/"
        },
        "outputId": "5e8cb04f-d1fb-4b97-a690-d79211c0a48a"
      },
      "cell_type": "code",
      "source": [
        "a.T #Transpose"
      ],
      "execution_count": 97,
      "outputs": [
        {
          "output_type": "execute_result",
          "data": {
            "text/plain": [
              "array([[1, 4],\n",
              "       [2, 5],\n",
              "       [3, 6]])"
            ]
          },
          "metadata": {},
          "execution_count": 97
        }
      ]
    },
    {
      "metadata": {
        "id": "OQwnB4jMswg7",
        "colab": {
          "base_uri": "https://localhost:8080/"
        },
        "outputId": "bde2dba3-349d-4f3f-edd2-2d823bcae231"
      },
      "cell_type": "code",
      "source": [
        "a.T.ravel()"
      ],
      "execution_count": 98,
      "outputs": [
        {
          "output_type": "execute_result",
          "data": {
            "text/plain": [
              "array([1, 4, 2, 5, 3, 6])"
            ]
          },
          "metadata": {},
          "execution_count": 98
        }
      ]
    },
    {
      "metadata": {
        "id": "IfyMcSqWswhA"
      },
      "cell_type": "markdown",
      "source": [
        "**Reshaping**"
      ]
    },
    {
      "metadata": {
        "id": "QcaiZZ7mswhA"
      },
      "cell_type": "markdown",
      "source": [
        "The inverse operation to flattening:"
      ]
    },
    {
      "metadata": {
        "id": "MA6cntc9swhC",
        "colab": {
          "base_uri": "https://localhost:8080/"
        },
        "outputId": "da43ebb9-2aa8-444d-bb8d-491d4801e49e"
      },
      "cell_type": "code",
      "source": [
        "print(a.shape)\n",
        "print(a)"
      ],
      "execution_count": 99,
      "outputs": [
        {
          "output_type": "stream",
          "name": "stdout",
          "text": [
            "(2, 3)\n",
            "[[1 2 3]\n",
            " [4 5 6]]\n"
          ]
        }
      ]
    },
    {
      "metadata": {
        "id": "hhJauR24swhE",
        "colab": {
          "base_uri": "https://localhost:8080/"
        },
        "outputId": "843529eb-05c0-4b7c-cc27-cfb8d59cfbbd"
      },
      "cell_type": "code",
      "source": [
        "b = a.ravel()\n",
        "print(b)"
      ],
      "execution_count": 100,
      "outputs": [
        {
          "output_type": "stream",
          "name": "stdout",
          "text": [
            "[1 2 3 4 5 6]\n"
          ]
        }
      ]
    },
    {
      "metadata": {
        "id": "vXbnz73uswhG",
        "colab": {
          "base_uri": "https://localhost:8080/"
        },
        "outputId": "0dea4ff8-9179-4988-bae3-4de8b473a8f1"
      },
      "cell_type": "code",
      "source": [
        "b = b.reshape((2, 3))\n",
        "b"
      ],
      "execution_count": 101,
      "outputs": [
        {
          "output_type": "execute_result",
          "data": {
            "text/plain": [
              "array([[1, 2, 3],\n",
              "       [4, 5, 6]])"
            ]
          },
          "metadata": {},
          "execution_count": 101
        }
      ]
    },
    {
      "metadata": {
        "id": "TNr-WvUzswhI",
        "colab": {
          "base_uri": "https://localhost:8080/"
        },
        "outputId": "dbd163d5-f7c9-4e1d-d6ac-a8ec3ebc2d63"
      },
      "cell_type": "code",
      "source": [
        "b[0, 0] = 100\n",
        "a"
      ],
      "execution_count": 102,
      "outputs": [
        {
          "output_type": "execute_result",
          "data": {
            "text/plain": [
              "array([[100,   2,   3],\n",
              "       [  4,   5,   6]])"
            ]
          },
          "metadata": {},
          "execution_count": 102
        }
      ]
    },
    {
      "metadata": {
        "id": "_Y5EeOeJswhL"
      },
      "cell_type": "markdown",
      "source": [
        "**Note and       Beware: reshape may also return a copy!:**"
      ]
    },
    {
      "metadata": {
        "id": "tf1F72vHswhL",
        "colab": {
          "base_uri": "https://localhost:8080/"
        },
        "outputId": "b0905870-2428-49a7-fe20-3ce0d95cc1c6"
      },
      "cell_type": "code",
      "source": [
        "a = np.zeros((3, 2))\n",
        "b = a.T.reshape(3*2)\n",
        "b[0] = 50\n",
        "a"
      ],
      "execution_count": 103,
      "outputs": [
        {
          "output_type": "execute_result",
          "data": {
            "text/plain": [
              "array([[0., 0.],\n",
              "       [0., 0.],\n",
              "       [0., 0.]])"
            ]
          },
          "metadata": {},
          "execution_count": 103
        }
      ]
    },
    {
      "metadata": {
        "id": "4pnFgWaTswhO"
      },
      "cell_type": "markdown",
      "source": [
        "**Adding a Dimension**"
      ]
    },
    {
      "metadata": {
        "id": "b3x7GDphswhP"
      },
      "cell_type": "markdown",
      "source": [
        "Indexing with the np.newaxis object allows us to add an axis to an array"
      ]
    },
    {
      "metadata": {
        "id": "zWZFOfB0swhP"
      },
      "cell_type": "markdown",
      "source": [
        "newaxis is used to increase the dimension of the existing array by one more dimension, when used once. Thus,\n",
        "\n",
        "1D array will become 2D array\n",
        "\n",
        "2D array will become 3D array\n",
        "\n",
        "3D array will become 4D array and so on"
      ]
    },
    {
      "metadata": {
        "id": "DuHUdNLoswhP",
        "colab": {
          "base_uri": "https://localhost:8080/"
        },
        "outputId": "768afc21-3af4-474d-d18e-3a3a8f3937be"
      },
      "cell_type": "code",
      "source": [
        "z = np.array([1, 2, 3])\n",
        "z"
      ],
      "execution_count": 104,
      "outputs": [
        {
          "output_type": "execute_result",
          "data": {
            "text/plain": [
              "array([1, 2, 3])"
            ]
          },
          "metadata": {},
          "execution_count": 104
        }
      ]
    },
    {
      "metadata": {
        "id": "f48pj0JMswhT",
        "colab": {
          "base_uri": "https://localhost:8080/"
        },
        "outputId": "c0d69065-1d19-4a64-c329-ad05f32747f5"
      },
      "cell_type": "code",
      "source": [
        "z[:, np.newaxis]"
      ],
      "execution_count": 105,
      "outputs": [
        {
          "output_type": "execute_result",
          "data": {
            "text/plain": [
              "array([[1],\n",
              "       [2],\n",
              "       [3]])"
            ]
          },
          "metadata": {},
          "execution_count": 105
        }
      ]
    },
    {
      "metadata": {
        "id": "Wy-2k9NjswhW"
      },
      "cell_type": "markdown",
      "source": [
        "**Dimension Shuffling**"
      ]
    },
    {
      "metadata": {
        "id": "MSTSN5IoswhZ",
        "colab": {
          "base_uri": "https://localhost:8080/"
        },
        "outputId": "12cbee36-52e5-4cf7-82c1-2dcb4d5cdb48"
      },
      "cell_type": "code",
      "source": [
        "a = np.arange(4*3*2).reshape(4, 3, 2)\n",
        "a.shape"
      ],
      "execution_count": 106,
      "outputs": [
        {
          "output_type": "execute_result",
          "data": {
            "text/plain": [
              "(4, 3, 2)"
            ]
          },
          "metadata": {},
          "execution_count": 106
        }
      ]
    },
    {
      "metadata": {
        "id": "-i_qw-2Bswhd",
        "colab": {
          "base_uri": "https://localhost:8080/"
        },
        "outputId": "d1f0b383-65fc-401f-c805-f92bcccd4f0b"
      },
      "cell_type": "code",
      "source": [
        "a"
      ],
      "execution_count": 107,
      "outputs": [
        {
          "output_type": "execute_result",
          "data": {
            "text/plain": [
              "array([[[ 0,  1],\n",
              "        [ 2,  3],\n",
              "        [ 4,  5]],\n",
              "\n",
              "       [[ 6,  7],\n",
              "        [ 8,  9],\n",
              "        [10, 11]],\n",
              "\n",
              "       [[12, 13],\n",
              "        [14, 15],\n",
              "        [16, 17]],\n",
              "\n",
              "       [[18, 19],\n",
              "        [20, 21],\n",
              "        [22, 23]]])"
            ]
          },
          "metadata": {},
          "execution_count": 107
        }
      ]
    },
    {
      "metadata": {
        "id": "sFfdpnwxswhg",
        "colab": {
          "base_uri": "https://localhost:8080/"
        },
        "outputId": "7413e441-1158-4258-ff9b-c2611c5e1ac6"
      },
      "cell_type": "code",
      "source": [
        "a[0, 2, 1]"
      ],
      "execution_count": 108,
      "outputs": [
        {
          "output_type": "execute_result",
          "data": {
            "text/plain": [
              "5"
            ]
          },
          "metadata": {},
          "execution_count": 108
        }
      ]
    },
    {
      "metadata": {
        "id": "2lFLuLyjswhk"
      },
      "cell_type": "markdown",
      "source": [
        "**Resizing**"
      ]
    },
    {
      "metadata": {
        "id": "Yi9xEsTdswhl",
        "colab": {
          "base_uri": "https://localhost:8080/"
        },
        "outputId": "ff94222f-6f9d-4dc9-9f16-4108dd550dc4"
      },
      "cell_type": "code",
      "source": [
        "a = np.arange(4)\n",
        "a.resize((8,))\n",
        "a"
      ],
      "execution_count": 109,
      "outputs": [
        {
          "output_type": "execute_result",
          "data": {
            "text/plain": [
              "array([0, 1, 2, 3, 0, 0, 0, 0])"
            ]
          },
          "metadata": {},
          "execution_count": 109
        }
      ]
    },
    {
      "metadata": {
        "id": "L32_TKH-swhp"
      },
      "cell_type": "markdown",
      "source": [
        "However, it must not be referred to somewhere else:"
      ]
    },
    {
      "metadata": {
        "id": "n03o_7jKswhq",
        "colab": {
          "base_uri": "https://localhost:8080/",
          "height": 219
        },
        "outputId": "cdacb4e9-d1bf-485d-a7e2-fbf2e52d017e"
      },
      "cell_type": "code",
      "source": [
        "b = a\n",
        "a.resize((4,)) "
      ],
      "execution_count": 110,
      "outputs": [
        {
          "output_type": "error",
          "ename": "ValueError",
          "evalue": "ignored",
          "traceback": [
            "\u001b[0;31m---------------------------------------------------------------------------\u001b[0m",
            "\u001b[0;31mValueError\u001b[0m                                Traceback (most recent call last)",
            "\u001b[0;32m<ipython-input-110-5d858401815e>\u001b[0m in \u001b[0;36m<module>\u001b[0;34m()\u001b[0m\n\u001b[1;32m      1\u001b[0m \u001b[0mb\u001b[0m \u001b[0;34m=\u001b[0m \u001b[0ma\u001b[0m\u001b[0;34m\u001b[0m\u001b[0;34m\u001b[0m\u001b[0m\n\u001b[0;32m----> 2\u001b[0;31m \u001b[0ma\u001b[0m\u001b[0;34m.\u001b[0m\u001b[0mresize\u001b[0m\u001b[0;34m(\u001b[0m\u001b[0;34m(\u001b[0m\u001b[0;36m4\u001b[0m\u001b[0;34m,\u001b[0m\u001b[0;34m)\u001b[0m\u001b[0;34m)\u001b[0m\u001b[0;34m\u001b[0m\u001b[0;34m\u001b[0m\u001b[0m\n\u001b[0m",
            "\u001b[0;31mValueError\u001b[0m: cannot resize an array that references or is referenced\nby another array in this way.\nUse the np.resize function or refcheck=False"
          ]
        }
      ]
    },
    {
      "metadata": {
        "id": "xm598Xkxswhs"
      },
      "cell_type": "markdown",
      "source": [
        "**Sorting Data**"
      ]
    },
    {
      "metadata": {
        "id": "iM9Y-4wfswhs"
      },
      "cell_type": "code",
      "source": [
        "#Sorting along an axis:\n",
        "a = np.array([[5, 4, 6], [2, 3, 2]])\n",
        "b = np.sort(a, axis=1)\n",
        "b"
      ],
      "execution_count": null,
      "outputs": []
    },
    {
      "metadata": {
        "id": "Z8gWeYynswhw"
      },
      "cell_type": "code",
      "source": [
        "#in-place sort\n",
        "a.sort(axis=1)\n",
        "a"
      ],
      "execution_count": null,
      "outputs": []
    },
    {
      "metadata": {
        "id": "DSSbH76aswh1"
      },
      "cell_type": "code",
      "source": [
        "#sorting with fancy indexing\n",
        "a = np.array([4, 3, 1, 2])\n",
        "j = np.argsort(a)\n",
        "j"
      ],
      "execution_count": null,
      "outputs": []
    },
    {
      "metadata": {
        "id": "CtBWBS5Qswh3"
      },
      "cell_type": "code",
      "source": [
        "a[j]"
      ],
      "execution_count": null,
      "outputs": []
    },
    {
      "cell_type": "markdown",
      "source": [
        "<h3>The Numpy array object</h3>\n",
        "**NumPy Arrays**\n",
        "**python objects:**\n",
        "\n",
        "high-level number objects: integers, floating point\n",
        "containers: lists (costless insertion and append), dictionaries (fast lookup)\n",
        "Numpy provides:\n",
        "\n",
        "extension package to Python for multi-dimensional arrays\n",
        "closer to hardware (efficiency)\n",
        "designed for scientific computation (convenience)\n",
        "Also known as array oriented computing"
      ],
      "metadata": {
        "id": "KlXPtgTwDCRH"
      }
    },
    {
      "cell_type": "code",
      "source": [
        "import numpy as np\n",
        "a = np.array([0, 1, 2, 3])\n",
        "print(a)\n",
        "\n",
        "print(np.arange(10))"
      ],
      "metadata": {
        "id": "Qyb-y6rGCfdj"
      },
      "execution_count": null,
      "outputs": []
    },
    {
      "cell_type": "markdown",
      "source": [
        "Why it is useful: Memory-efficient container that provides fast numerical operations."
      ],
      "metadata": {
        "id": "bdQoJMvrDglj"
      }
    },
    {
      "cell_type": "code",
      "source": [
        "#python lists\n",
        "L = range(1000)\n",
        "%timeit [i**2 for i in L]"
      ],
      "metadata": {
        "id": "sh9YnnVsDgC4"
      },
      "execution_count": null,
      "outputs": []
    },
    {
      "cell_type": "code",
      "source": [
        "a = np.arange(1000)\n",
        "%timeit a**2"
      ],
      "metadata": {
        "id": "WVfERRwRGcpP"
      },
      "execution_count": null,
      "outputs": []
    },
    {
      "cell_type": "markdown",
      "source": [
        "**1. Creating arrays**\n",
        "1.1. Manual Construction of arrays"
      ],
      "metadata": {
        "id": "UU4qnVUqGiyj"
      }
    },
    {
      "cell_type": "code",
      "source": [
        "#1-D\n",
        "\n",
        "a = np.array([0, 1, 2, 3])\n",
        "\n",
        "a"
      ],
      "metadata": {
        "id": "iIzBTSSNGe9R"
      },
      "execution_count": null,
      "outputs": []
    },
    {
      "cell_type": "code",
      "source": [
        "#print dimensions\n",
        "\n",
        "a.ndim"
      ],
      "metadata": {
        "id": "FZHUKu3zH-DP"
      },
      "execution_count": null,
      "outputs": []
    },
    {
      "cell_type": "code",
      "source": [
        "#shape\n",
        "\n",
        "a.shape"
      ],
      "metadata": {
        "id": "gd7F_E3WH_N1"
      },
      "execution_count": null,
      "outputs": []
    },
    {
      "cell_type": "code",
      "source": [
        "len(a)"
      ],
      "metadata": {
        "id": "zfcKOL6RIAcC"
      },
      "execution_count": null,
      "outputs": []
    },
    {
      "cell_type": "code",
      "source": [
        "# 2-D, 3-D....\n",
        "\n",
        "b = np.array([[0, 1, 2], [3, 4, 5]])\n",
        "\n",
        "b\n"
      ],
      "metadata": {
        "id": "vIePdTPnIB9K"
      },
      "execution_count": null,
      "outputs": []
    },
    {
      "cell_type": "code",
      "source": [
        "b.ndim"
      ],
      "metadata": {
        "id": "UYTrWWwyIEI_"
      },
      "execution_count": null,
      "outputs": []
    },
    {
      "cell_type": "code",
      "source": [
        "b.shape"
      ],
      "metadata": {
        "id": "AXZCLaRQIF0w"
      },
      "execution_count": null,
      "outputs": []
    },
    {
      "cell_type": "code",
      "source": [
        "len(b) #returns the size of the first dimention"
      ],
      "metadata": {
        "id": "8LlUtOUdIHfW"
      },
      "execution_count": null,
      "outputs": []
    },
    {
      "cell_type": "code",
      "source": [
        "c = np.array([[[0, 1], [2, 3]], [[4, 5], [6, 7]]])\n",
        "\n",
        "c"
      ],
      "metadata": {
        "id": "CE3V5ar7IIxS"
      },
      "execution_count": null,
      "outputs": []
    },
    {
      "cell_type": "code",
      "source": [
        "c.ndim"
      ],
      "metadata": {
        "id": "y4XxrT_pIKEJ"
      },
      "execution_count": null,
      "outputs": []
    },
    {
      "cell_type": "code",
      "source": [
        "c.shape"
      ],
      "metadata": {
        "id": "HS5jtKDAILSQ"
      },
      "execution_count": null,
      "outputs": []
    },
    {
      "cell_type": "markdown",
      "source": [
        "1.2 Functions for creating arrays"
      ],
      "metadata": {
        "id": "PSerpQWMIN9Z"
      }
    },
    {
      "cell_type": "code",
      "source": [
        "#using arrange function\n",
        "\n",
        "# arange is an array-valued version of the built-in Python range function\n",
        "\n",
        "a = np.arange(10) # 0.... n-1\n",
        "a"
      ],
      "metadata": {
        "id": "S3HQ97GjINDP"
      },
      "execution_count": null,
      "outputs": []
    },
    {
      "cell_type": "code",
      "source": [
        "b = np.arange(1, 10, 2) #start, end (exclusive), step\n",
        "\n",
        "b"
      ],
      "metadata": {
        "id": "HwOPFj5JIUjC"
      },
      "execution_count": null,
      "outputs": []
    },
    {
      "cell_type": "code",
      "source": [
        "#using linspace\n",
        "\n",
        "a = np.linspace(0, 1, 6) #start, end, number of points\n",
        "\n",
        "a"
      ],
      "metadata": {
        "id": "FhNSgBzoIV2O"
      },
      "execution_count": null,
      "outputs": []
    },
    {
      "cell_type": "code",
      "source": [
        "#common arrays\n",
        "\n",
        "a = np.ones((3, 3))\n",
        "\n",
        "a"
      ],
      "metadata": {
        "id": "DTl-5USzIXDC"
      },
      "execution_count": null,
      "outputs": []
    },
    {
      "cell_type": "code",
      "source": [
        "b = np.zeros((3, 3))\n",
        "\n",
        "b"
      ],
      "metadata": {
        "id": "OLRbplM8IY43"
      },
      "execution_count": null,
      "outputs": []
    },
    {
      "cell_type": "code",
      "source": [
        "c = np.eye(3)  #Return a 2-D array with ones on the diagonal and zeros elsewhere.\n",
        "\n",
        "c"
      ],
      "metadata": {
        "id": "fQC3R2UmIbbT"
      },
      "execution_count": null,
      "outputs": []
    },
    {
      "cell_type": "code",
      "source": [
        "d = np.eye(3, 2) #3 is number of rows, 2 is number of columns, index of diagonal start with 0\n",
        "\n",
        "d"
      ],
      "metadata": {
        "id": "3ed27deYIc0n"
      },
      "execution_count": null,
      "outputs": []
    },
    {
      "cell_type": "code",
      "source": [
        "#create array using diag function\n",
        "\n",
        "a = np.diag([1, 2, 3, 4]) #construct a diagonal array.\n",
        "\n",
        "a"
      ],
      "metadata": {
        "id": "zWT22BZSIeCY"
      },
      "execution_count": null,
      "outputs": []
    },
    {
      "cell_type": "code",
      "source": [
        "np.diag(a)   #Extract diagonal"
      ],
      "metadata": {
        "id": "CjVsG-xOIfPj"
      },
      "execution_count": null,
      "outputs": []
    },
    {
      "cell_type": "code",
      "source": [
        "#create array using random\n",
        "\n",
        "#Create an array of the given shape and populate it with random samples from a uniform distribution over [0, 1).\n",
        "a = np.random.rand(4) \n",
        "\n",
        "a"
      ],
      "metadata": {
        "id": "GOgDqy3NIgdM"
      },
      "execution_count": null,
      "outputs": []
    },
    {
      "cell_type": "code",
      "source": [
        "a = np.random.randn(4)#Return a sample (or samples) from the “standard normal” distribution.  ***Gausian***\n",
        "\n",
        "a"
      ],
      "metadata": {
        "id": "UnbBvLMmIhwb"
      },
      "execution_count": null,
      "outputs": []
    },
    {
      "cell_type": "markdown",
      "source": [
        "Note:\n",
        "\n",
        "**For random samples from N(\\mu, \\sigma^2), use:**\n",
        "\n",
        "sigma * np.random.randn(...) + mu"
      ],
      "metadata": {
        "id": "riOGW7UzIlXP"
      }
    },
    {
      "cell_type": "markdown",
      "source": [
        "2. Basic DataTypes\n",
        "You may have noticed that, in some instances, array elements are displayed with a trailing dot (e.g. 2. vs 2). This is due to a difference in the data-type used:"
      ],
      "metadata": {
        "id": "TyANIKSpIpzR"
      }
    },
    {
      "cell_type": "code",
      "source": [
        "a = np.arange(10)\n",
        "\n",
        "a.dtype"
      ],
      "metadata": {
        "id": "3BpzDbcIIjbE"
      },
      "execution_count": null,
      "outputs": []
    },
    {
      "cell_type": "code",
      "source": [
        "#You can explicitly specify which data-type you want:\n",
        "\n",
        "a = np.arange(10, dtype='float64')\n",
        "a"
      ],
      "metadata": {
        "id": "eXBh1vNvIvC4"
      },
      "execution_count": null,
      "outputs": []
    },
    {
      "cell_type": "code",
      "source": [
        "#The default data type is float for zeros and ones function\n",
        "\n",
        "a = np.zeros((3, 3))\n",
        "\n",
        "print(a)\n",
        "\n",
        "a.dtype"
      ],
      "metadata": {
        "id": "S1JXi_-4IwZ7"
      },
      "execution_count": null,
      "outputs": []
    },
    {
      "cell_type": "markdown",
      "source": [
        "other datatypes\n"
      ],
      "metadata": {
        "id": "FOwZVq-II0VD"
      }
    },
    {
      "cell_type": "code",
      "source": [
        "d = np.array([1+2j, 2+4j])   #Complex datatype\n",
        "\n",
        "print(d.dtype)"
      ],
      "metadata": {
        "id": "U-0cWSLkI2cn"
      },
      "execution_count": null,
      "outputs": []
    },
    {
      "cell_type": "code",
      "source": [
        "b = np.array([True, False, True, False])  #Boolean datatype\n",
        "\n",
        "print(b.dtype)"
      ],
      "metadata": {
        "id": "E3hgHq7aI4nl"
      },
      "execution_count": null,
      "outputs": []
    },
    {
      "cell_type": "code",
      "source": [
        "s = np.array(['Ram', 'Robert', 'Rahim'])\n",
        "\n",
        "s.dtype"
      ],
      "metadata": {
        "id": "iqfF5gIQI5vj"
      },
      "execution_count": null,
      "outputs": []
    },
    {
      "cell_type": "markdown",
      "source": [
        "Each built-in data type has a character code that uniquely identifies it.\n",
        "'b' − boolean\n",
        "\n",
        "'i' − (signed) integer\n",
        "\n",
        "'u' − unsigned integer\n",
        "\n",
        "'f' − floating-point\n",
        "\n",
        "'c' − complex-floating point\n",
        "\n",
        "'m' − timedelta\n",
        "\n",
        "'M' − datetime\n",
        "\n",
        "'O' − (Python) objects\n",
        "\n",
        "'S', 'a' − (byte-)string\n",
        "\n",
        "'U' − Unicode\n",
        "\n",
        "'V' − raw data (void)\n",
        "\n",
        "For more details\n",
        "\n",
        "https://docs.scipy.org/doc/numpy-1.10.1/user/basics.types.html"
      ],
      "metadata": {
        "id": "tPgWvAqMI-QC"
      }
    },
    {
      "cell_type": "markdown",
      "source": [
        "**3 Indexing and Slicing**\n",
        "**Indexing**\n",
        "\n",
        "The items of an array can be accessed and assigned to the same way as other Python sequences (e.g. lists):"
      ],
      "metadata": {
        "id": "VfnK2aCCJId6"
      }
    },
    {
      "cell_type": "code",
      "source": [
        "a = np.arange(10)\n",
        "\n",
        "print(a[5])  #indices begin at 0, like other Python sequences (and C/C++)"
      ],
      "metadata": {
        "id": "IxjnP1R1JDcZ",
        "outputId": "db4d9b04-599f-4b70-a5d5-b94bc5395fdd",
        "colab": {
          "base_uri": "https://localhost:8080/"
        }
      },
      "execution_count": 111,
      "outputs": [
        {
          "output_type": "stream",
          "name": "stdout",
          "text": [
            "5\n"
          ]
        }
      ]
    },
    {
      "cell_type": "code",
      "source": [
        "# For multidimensional arrays, indexes are tuples of integers:\n",
        "\n",
        "a = np.diag([1, 2, 3])\n",
        "\n",
        "print(a[2, 2])"
      ],
      "metadata": {
        "id": "6wkxRMkiJYGs",
        "outputId": "ca69d029-02d8-4783-b4ac-7e9b0d6f4259",
        "colab": {
          "base_uri": "https://localhost:8080/"
        }
      },
      "execution_count": 112,
      "outputs": [
        {
          "output_type": "stream",
          "name": "stdout",
          "text": [
            "3\n"
          ]
        }
      ]
    },
    {
      "cell_type": "code",
      "source": [
        "a[2, 1] = 5 #assigning value\n",
        "\n",
        "a"
      ],
      "metadata": {
        "id": "DUsUIvksJZhQ",
        "outputId": "5713d57c-cfa1-42d2-c633-143aaafb7569",
        "colab": {
          "base_uri": "https://localhost:8080/"
        }
      },
      "execution_count": 113,
      "outputs": [
        {
          "output_type": "execute_result",
          "data": {
            "text/plain": [
              "array([[1, 0, 0],\n",
              "       [0, 2, 0],\n",
              "       [0, 5, 3]])"
            ]
          },
          "metadata": {},
          "execution_count": 113
        }
      ]
    },
    {
      "cell_type": "markdown",
      "source": [
        "3.2 Slicing"
      ],
      "metadata": {
        "id": "i3Bs2_VnJcge"
      }
    },
    {
      "cell_type": "code",
      "source": [
        "a = np.arange(10)\n",
        "\n",
        "a"
      ],
      "metadata": {
        "id": "1CmMsDa-Ja4_",
        "outputId": "7e0bcf59-aa22-4269-835d-300f4d6ee1f3",
        "colab": {
          "base_uri": "https://localhost:8080/"
        }
      },
      "execution_count": 114,
      "outputs": [
        {
          "output_type": "execute_result",
          "data": {
            "text/plain": [
              "array([0, 1, 2, 3, 4, 5, 6, 7, 8, 9])"
            ]
          },
          "metadata": {},
          "execution_count": 114
        }
      ]
    },
    {
      "cell_type": "code",
      "source": [
        "a[1:8:2] # [startindex: endindex(exclusive) : step]"
      ],
      "metadata": {
        "id": "MMuOLUN3JgDx",
        "outputId": "8afeb62d-f118-4c28-8307-2d6b1a6d0553",
        "colab": {
          "base_uri": "https://localhost:8080/"
        }
      },
      "execution_count": 115,
      "outputs": [
        {
          "output_type": "execute_result",
          "data": {
            "text/plain": [
              "array([1, 3, 5, 7])"
            ]
          },
          "metadata": {},
          "execution_count": 115
        }
      ]
    },
    {
      "cell_type": "code",
      "source": [
        "#we can also combine assignment and slicing:\n",
        "\n",
        "a = np.arange(10)\n",
        "a[5:] = 10\n",
        "a"
      ],
      "metadata": {
        "id": "NXmYmZTOJhUY",
        "outputId": "ce0764f0-9aa3-4fdf-c4cf-6a30f4faab67",
        "colab": {
          "base_uri": "https://localhost:8080/"
        }
      },
      "execution_count": 116,
      "outputs": [
        {
          "output_type": "execute_result",
          "data": {
            "text/plain": [
              "array([ 0,  1,  2,  3,  4, 10, 10, 10, 10, 10])"
            ]
          },
          "metadata": {},
          "execution_count": 116
        }
      ]
    },
    {
      "cell_type": "code",
      "source": [
        "b = np.arange(5)\n",
        "a[5:] = b[::-1]  #assigning\n",
        "\n",
        "a"
      ],
      "metadata": {
        "id": "4Vi4wuMnJi4E",
        "outputId": "d9f19312-07a7-472d-e9b0-bb8dc2c40d35",
        "colab": {
          "base_uri": "https://localhost:8080/"
        }
      },
      "execution_count": 117,
      "outputs": [
        {
          "output_type": "execute_result",
          "data": {
            "text/plain": [
              "array([0, 1, 2, 3, 4, 4, 3, 2, 1, 0])"
            ]
          },
          "metadata": {},
          "execution_count": 117
        }
      ]
    },
    {
      "cell_type": "markdown",
      "source": [
        " <h3>copies and Views</h3>\n",
        "A slicing operation creates a view on the original array, which is just a way of accessing array data. Thus the original array is not copied in memory. You can use np.may_share_memory() to check if two arrays share the same memory block.\n",
        "\n",
        "When modifying the view, the original array is modified as well: "
      ],
      "metadata": {
        "id": "4YPzOPq0Jl6V"
      }
    },
    {
      "cell_type": "code",
      "source": [
        "a = np.arange(10)\n",
        "a"
      ],
      "metadata": {
        "id": "xq_sWETfJj_g",
        "outputId": "41784bf0-1552-42b8-93df-7629d1c5009e",
        "colab": {
          "base_uri": "https://localhost:8080/"
        }
      },
      "execution_count": 118,
      "outputs": [
        {
          "output_type": "execute_result",
          "data": {
            "text/plain": [
              "array([0, 1, 2, 3, 4, 5, 6, 7, 8, 9])"
            ]
          },
          "metadata": {},
          "execution_count": 118
        }
      ]
    },
    {
      "cell_type": "code",
      "source": [
        "b = a[::2]\n",
        "b"
      ],
      "metadata": {
        "id": "X5EAR4QQJ2t-",
        "outputId": "576ca234-7f3a-4604-8eac-c6c753167ab6",
        "colab": {
          "base_uri": "https://localhost:8080/"
        }
      },
      "execution_count": 119,
      "outputs": [
        {
          "output_type": "execute_result",
          "data": {
            "text/plain": [
              "array([0, 2, 4, 6, 8])"
            ]
          },
          "metadata": {},
          "execution_count": 119
        }
      ]
    },
    {
      "cell_type": "code",
      "source": [
        "np.shares_memory(a, b)"
      ],
      "metadata": {
        "id": "e0KZHAw4J34s",
        "outputId": "8b1b5ad8-1708-4035-bcf2-a1a77d19e970",
        "colab": {
          "base_uri": "https://localhost:8080/"
        }
      },
      "execution_count": 120,
      "outputs": [
        {
          "output_type": "execute_result",
          "data": {
            "text/plain": [
              "True"
            ]
          },
          "metadata": {},
          "execution_count": 120
        }
      ]
    },
    {
      "cell_type": "code",
      "source": [
        "b[0] = 10\n",
        "b"
      ],
      "metadata": {
        "id": "iJx-zRc6J5qd",
        "outputId": "c246f1fe-722a-4baf-92f7-c58cef82c64f",
        "colab": {
          "base_uri": "https://localhost:8080/"
        }
      },
      "execution_count": 121,
      "outputs": [
        {
          "output_type": "execute_result",
          "data": {
            "text/plain": [
              "array([10,  2,  4,  6,  8])"
            ]
          },
          "metadata": {},
          "execution_count": 121
        }
      ]
    },
    {
      "cell_type": "code",
      "source": [
        "a  #eventhough we modified b,  it updated 'a' because both shares same memory"
      ],
      "metadata": {
        "id": "28M-IiI5J7T0",
        "outputId": "60a11885-732c-4e1e-c93f-584a7a8a66a4",
        "colab": {
          "base_uri": "https://localhost:8080/"
        }
      },
      "execution_count": 122,
      "outputs": [
        {
          "output_type": "execute_result",
          "data": {
            "text/plain": [
              "array([10,  1,  2,  3,  4,  5,  6,  7,  8,  9])"
            ]
          },
          "metadata": {},
          "execution_count": 122
        }
      ]
    },
    {
      "cell_type": "code",
      "source": [
        "a = np.arange(10)\n",
        "\n",
        "c = a[::2].copy()     #force a copy\n",
        "c"
      ],
      "metadata": {
        "id": "6xqaI8xaJ8pe",
        "outputId": "f0885570-e493-4c47-9540-4a1b29f304ea",
        "colab": {
          "base_uri": "https://localhost:8080/"
        }
      },
      "execution_count": 123,
      "outputs": [
        {
          "output_type": "execute_result",
          "data": {
            "text/plain": [
              "array([0, 2, 4, 6, 8])"
            ]
          },
          "metadata": {},
          "execution_count": 123
        }
      ]
    },
    {
      "cell_type": "code",
      "source": [
        "np.shares_memory(a, c)"
      ],
      "metadata": {
        "id": "dxjz0vPfKPYR",
        "outputId": "1a2219c7-510e-4fb3-cd66-3428a9336881",
        "colab": {
          "base_uri": "https://localhost:8080/"
        }
      },
      "execution_count": 124,
      "outputs": [
        {
          "output_type": "execute_result",
          "data": {
            "text/plain": [
              "False"
            ]
          },
          "metadata": {},
          "execution_count": 124
        }
      ]
    },
    {
      "cell_type": "code",
      "source": [
        "c[0] = 10\n",
        "\n",
        "a"
      ],
      "metadata": {
        "id": "7ATEf5aTKQc6",
        "outputId": "915761b7-f7d9-43b2-c892-e42895ece99c",
        "colab": {
          "base_uri": "https://localhost:8080/"
        }
      },
      "execution_count": 125,
      "outputs": [
        {
          "output_type": "execute_result",
          "data": {
            "text/plain": [
              "array([0, 1, 2, 3, 4, 5, 6, 7, 8, 9])"
            ]
          },
          "metadata": {},
          "execution_count": 125
        }
      ]
    },
    {
      "cell_type": "markdown",
      "source": [
        "<h3>5. Fancy Indexing</h3>\n",
        "NumPy arrays can be indexed with slices, but also with boolean or integer arrays (masks). This method is called fancy indexing. It creates copies not views.\n",
        "\n",
        "Using Boolean Mask"
      ],
      "metadata": {
        "id": "80KMhTWOKSiF"
      }
    },
    {
      "cell_type": "code",
      "source": [
        "a = np.random.randint(0, 20, 15)\n",
        "a"
      ],
      "metadata": {
        "id": "SN1S0ALQKR1w",
        "outputId": "12bca58f-a352-4df9-c689-f4c2ff141e27",
        "colab": {
          "base_uri": "https://localhost:8080/"
        }
      },
      "execution_count": 126,
      "outputs": [
        {
          "output_type": "execute_result",
          "data": {
            "text/plain": [
              "array([16, 19, 18, 19, 13, 15, 17, 13,  7, 18, 15,  5, 14,  9,  3])"
            ]
          },
          "metadata": {},
          "execution_count": 126
        }
      ]
    },
    {
      "cell_type": "code",
      "source": [
        "mask = (a % 2 == 0)"
      ],
      "metadata": {
        "id": "JdqUgNObKZkG"
      },
      "execution_count": 127,
      "outputs": []
    },
    {
      "cell_type": "code",
      "source": [
        "extract_from_a = a[mask]\n",
        "\n",
        "extract_from_a"
      ],
      "metadata": {
        "id": "EPKCMrFmKa2_",
        "outputId": "20f1eb9a-2522-4e2c-b2a1-13c40a634f7d",
        "colab": {
          "base_uri": "https://localhost:8080/"
        }
      },
      "execution_count": 128,
      "outputs": [
        {
          "output_type": "execute_result",
          "data": {
            "text/plain": [
              "array([16, 18, 18, 14])"
            ]
          },
          "metadata": {},
          "execution_count": 128
        }
      ]
    },
    {
      "cell_type": "markdown",
      "source": [
        "Indexing with a mask can be very useful to assign a new value to a sub-array:"
      ],
      "metadata": {
        "id": "eGNZp_x1KfIY"
      }
    },
    {
      "cell_type": "code",
      "source": [
        "a[mask] = -1\n",
        "a"
      ],
      "metadata": {
        "id": "aY8OpX1CKb79",
        "outputId": "edd4185e-6002-4f74-b5ca-cf1289db33e8",
        "colab": {
          "base_uri": "https://localhost:8080/"
        }
      },
      "execution_count": 129,
      "outputs": [
        {
          "output_type": "execute_result",
          "data": {
            "text/plain": [
              "array([-1, 19, -1, 19, 13, 15, 17, 13,  7, -1, 15,  5, -1,  9,  3])"
            ]
          },
          "metadata": {},
          "execution_count": 129
        }
      ]
    },
    {
      "cell_type": "markdown",
      "source": [
        "Indexing with an array of integers"
      ],
      "metadata": {
        "id": "MFD3odNnKk8I"
      }
    },
    {
      "cell_type": "code",
      "source": [
        "a = np.arange(0, 100, 10)\n",
        "\n",
        "a"
      ],
      "metadata": {
        "id": "xcmjPbsMKkZ9",
        "outputId": "678beaac-4395-4f61-ce42-a1d65b0d2b87",
        "colab": {
          "base_uri": "https://localhost:8080/"
        }
      },
      "execution_count": 130,
      "outputs": [
        {
          "output_type": "execute_result",
          "data": {
            "text/plain": [
              "array([ 0, 10, 20, 30, 40, 50, 60, 70, 80, 90])"
            ]
          },
          "metadata": {},
          "execution_count": 130
        }
      ]
    },
    {
      "cell_type": "code",
      "source": [
        "#Indexing can be done with an array of integers, where the same index is repeated several time:\n",
        "\n",
        "a[[2, 3, 2, 4, 2]]"
      ],
      "metadata": {
        "id": "3TWM8VSkKos_",
        "outputId": "81f0197e-2a58-4684-f9fb-1e6b8cfb2a73",
        "colab": {
          "base_uri": "https://localhost:8080/"
        }
      },
      "execution_count": 131,
      "outputs": [
        {
          "output_type": "execute_result",
          "data": {
            "text/plain": [
              "array([20, 30, 20, 40, 20])"
            ]
          },
          "metadata": {},
          "execution_count": 131
        }
      ]
    },
    {
      "cell_type": "code",
      "source": [
        "# New values can be assigned \n",
        "\n",
        "a[[9, 7]] = -200\n",
        "\n",
        "a"
      ],
      "metadata": {
        "id": "wimU_MaBKpwg",
        "outputId": "2387c853-0294-44ff-f8d6-fa44950d4b58",
        "colab": {
          "base_uri": "https://localhost:8080/"
        }
      },
      "execution_count": 132,
      "outputs": [
        {
          "output_type": "execute_result",
          "data": {
            "text/plain": [
              "array([   0,   10,   20,   30,   40,   50,   60, -200,   80, -200])"
            ]
          },
          "metadata": {},
          "execution_count": 132
        }
      ]
    },
    {
      "cell_type": "code",
      "source": [
        ""
      ],
      "metadata": {
        "id": "L04ZPXKDKrXx"
      },
      "execution_count": null,
      "outputs": []
    }
  ]
}